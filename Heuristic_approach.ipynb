{
 "cells": [
  {
   "cell_type": "code",
   "execution_count": 1,
   "metadata": {},
   "outputs": [],
   "source": [
    "import numpy as np\n",
    "import pandas as pd\n",
    "from openpyxl import Workbook\n",
    "\n",
    "class Random:\n",
    "    def __init__(self, seed=None):\n",
    "        self.rng = np.random.default_rng(seed)\n",
    "        \n",
    "    def normal(self, mean, stddev):\n",
    "        return self.rng.normal(mean, stddev)\n",
    "\n",
    "def generate_demand(periods=15):\n",
    "    D = []\n",
    "    b = 90\n",
    "    c = 0.3 * b\n",
    "    e = Random()  # No seed for practice mode\n",
    "    while True:\n",
    "        a = e.normal(b, c)\n",
    "        if a > 0:\n",
    "            break\n",
    "    b = a\n",
    "    D.append(a)\n",
    "    c = min(30, 0.3 * b)\n",
    "    for _ in range(1, periods):\n",
    "        while True:\n",
    "            a = e.normal(b, c)\n",
    "            if a > 0:\n",
    "                break\n",
    "        D.append(a)\n",
    "    return D\n",
    "\n",
    "def calc_demand(D, week, multiplier):\n",
    "    return D[week] * multiplier\n",
    "\n",
    "def simulate_player_strategy(threshold=300, periods=15):\n",
    "    D = generate_demand(periods)\n",
    "    mult = [1, 1.3, 1.75, 2.8]\n",
    "    prices = [60, 54, 48, 36]\n",
    "    current_price_index = 0\n",
    "    I = 2000\n",
    "    revenue = 0\n",
    "    sales = []\n",
    "    price_clicks = [0, 0, 0, 0]\n",
    "\n",
    "    for week in range(periods):\n",
    "        # Maintain the price at $60 for the first 3 weeks\n",
    "        if week >= 3:\n",
    "            recent_sales_sum = sum(sales[-3:])\n",
    "            if recent_sales_sum < threshold:\n",
    "                # Move to the next price level if the current one has been clicked\n",
    "                if price_clicks[current_price_index] > 0:\n",
    "                    current_price_index = min(current_price_index + 1, len(prices) - 1)\n",
    "\n",
    "        current_price = prices[current_price_index]\n",
    "        current_multiplier = mult[current_price_index]\n",
    "        weekly_demand = calc_demand(D, week, current_multiplier)\n",
    "        actual_sales = min(weekly_demand, I)\n",
    "        revenue += current_price * actual_sales\n",
    "        I -= actual_sales\n",
    "        sales.append(actual_sales)\n",
    "\n",
    "        # Mark the price button as clicked\n",
    "        price_clicks[current_price_index] += 1\n",
    "\n",
    "        # Uncomment to print out the weekly details for debugging\n",
    "        # print(f\"Week {week + 1}: Price = ${current_price}, Sales = {actual_sales}, Inventory = {I}, Revenue = {revenue}\")\n",
    "\n",
    "        if I <= 0:\n",
    "            break\n",
    "\n",
    "    return revenue, D\n",
    "\n",
    "# When the sale of the week < threshold, still maintain that price for the next week, but if the sale of next week is still < threshold, move to the next price level\n",
    "def simulate_player_strategy2(threshold=133, periods=15):\n",
    "    D = generate_demand(periods)\n",
    "    mult = [1, 1.3, 1.75, 2.8]\n",
    "    prices = [60, 54, 48, 36]\n",
    "    current_price_index = 0\n",
    "    I = 2000\n",
    "    revenue = 0\n",
    "    sales = []\n",
    "    below_threshold_weeks = 0\n",
    "\n",
    "    for week in range(periods):\n",
    "        # Determine the price and multiplier for the current week\n",
    "        current_price = prices[current_price_index]\n",
    "        current_multiplier = mult[current_price_index]\n",
    "        \n",
    "        # Calculate weekly demand and actual sales\n",
    "        weekly_demand = calc_demand(D, week, current_multiplier)\n",
    "        actual_sales = min(weekly_demand, I)\n",
    "        \n",
    "        # Update revenue and inventory\n",
    "        revenue += current_price * actual_sales\n",
    "        I -= actual_sales\n",
    "        sales.append(actual_sales)\n",
    "        \n",
    "        # Check if sales are below the threshold for consecutive weeks\n",
    "        if actual_sales < threshold:\n",
    "            below_threshold_weeks += 1\n",
    "        else:\n",
    "            below_threshold_weeks = 0\n",
    "\n",
    "        # Adjust price level if sales are below threshold for two consecutive weeks\n",
    "        if below_threshold_weeks == 2:\n",
    "            current_price_index = min(current_price_index + 1, len(prices) - 1)\n",
    "            below_threshold_weeks = 0  # Reset the counter after moving to the next price level\n",
    "\n",
    "        # Break if inventory is depleted\n",
    "        if I <= 0:\n",
    "            break\n",
    "\n",
    "    return revenue, D\n",
    "\n",
    "# Maintain the initial price for the initial periods, move to the next price level if cumulative sales < threshold * number of weeks passed\n",
    "def simulate_player_strategy3(threshold=133, initial_period = 2, periods=15):\n",
    "    D = generate_demand(periods)\n",
    "    mult = [1, 1.3, 1.75, 2.8]\n",
    "    prices = [60, 54, 48, 36]\n",
    "    current_price_index = 0\n",
    "    I = 2000\n",
    "    revenue = 0\n",
    "    sales = []\n",
    "\n",
    "    for week in range(periods):\n",
    "        current_price = prices[current_price_index]\n",
    "        current_multiplier = mult[current_price_index]\n",
    "        weekly_demand = calc_demand(D, week, current_multiplier)\n",
    "        actual_sales = min(weekly_demand, I)\n",
    "        revenue += current_price * actual_sales\n",
    "        I -= actual_sales\n",
    "        sales.append(actual_sales)\n",
    "\n",
    "        if week >= initial_period and sum(sales) < ((week+1) * threshold):\n",
    "            current_price_index = min(current_price_index + 1, len(prices) - 1)\n",
    "\n",
    "        if I <= 0:\n",
    "            break\n",
    "\n",
    "    return revenue, D\n",
    "\n",
    "def calcRev(D, a, b, c, periods, mult, salvage=0):\n",
    "    e = 0\n",
    "    d = 2000\n",
    "    for f in range(a):\n",
    "        g = min(D[f] * mult[0], d)\n",
    "        d -= g\n",
    "        e += 60 * g\n",
    "    for f in range(a, a + b):\n",
    "        g = min(D[f] * mult[1], d)\n",
    "        d -= g\n",
    "        e += 54 * g\n",
    "    for f in range(a + b, a + b + c):\n",
    "        g = min(D[f] * mult[2], d)\n",
    "        d -= g\n",
    "        e += 48 * g\n",
    "    for f in range(a + b + c, periods):\n",
    "        g = min(D[f] * mult[3], d)\n",
    "        d -= g\n",
    "        e += 36 * g\n",
    "    return e + d * salvage\n",
    "\n",
    "def perfect_foresight(D, periods, mult):\n",
    "    e = 0\n",
    "    for a in range(1, periods + 1):\n",
    "        for b in range(0, periods - a + 1):\n",
    "            for c in range(0, periods - a - b + 1):\n",
    "                d = calcRev(D, a, b, c, periods, mult)\n",
    "                if d > e:\n",
    "                    e = d\n",
    "    return e\n",
    "\n",
    "def play_game_n_times(n, threshold, strategy, initial_period=None):\n",
    "    results = []\n",
    "    mult = [1, 1.3, 1.75, 2.8]\n",
    "\n",
    "    for i in range(n):\n",
    "        if strategy == 1:\n",
    "            player_revenue, D = simulate_player_strategy(threshold)\n",
    "        elif strategy == 2:\n",
    "            player_revenue, D = simulate_player_strategy2(threshold)\n",
    "        else:\n",
    "            player_revenue, D = simulate_player_strategy3(threshold, initial_period)\n",
    "\n",
    "        perfect_revenue = perfect_foresight(D, 15, mult)\n",
    "        difference = perfect_revenue - player_revenue\n",
    "        difference_percentage = difference / perfect_revenue * 100\n",
    "\n",
    "        results.append({\n",
    "            'Attempt': i + 1,\n",
    "            'Player Revenue': player_revenue,\n",
    "            'Perfect Revenue': perfect_revenue,\n",
    "            'Difference': difference,\n",
    "            'Difference Percentage': difference_percentage\n",
    "        })\n",
    "\n",
    "    return results\n",
    "\n",
    "def save_results_to_excel(results, filename='game_results.xlsx'):\n",
    "    df = pd.DataFrame(results)\n",
    "    df.to_excel(filename, index=False)"
   ]
  },
  {
   "cell_type": "code",
   "execution_count": 5,
   "metadata": {},
   "outputs": [
    {
     "name": "stdout",
     "output_type": "stream",
     "text": [
      "The optimal threshold is: 300\n",
      "The optimal median differnce percentage is: 4.957979175384928\n"
     ]
    }
   ],
   "source": [
    "# Find optimal threshold for strategy 1\n",
    "thresholds = [*range(270, 399, 5)]\n",
    "threshold_results = []\n",
    "optimal_threshold = None\n",
    "optimal_median_difference_percentage = 100\n",
    "n=1000\n",
    "\n",
    "for threshold in thresholds:\n",
    "    results = play_game_n_times(n, threshold, strategy=1)\n",
    "    # Median of difference percentage as the metric to find optimal threshold\n",
    "    median_difference_percentage = pd.DataFrame(results)['Difference Percentage'].median()\n",
    "    threshold_results.append({\n",
    "        'Threshold': threshold,\n",
    "        'Median Difference Percentage': median_difference_percentage\n",
    "    })\n",
    "    \n",
    "    if median_difference_percentage < optimal_median_difference_percentage:\n",
    "        optimal_median_difference_percentage = median_difference_percentage\n",
    "        optimal_threshold = threshold\n",
    "\n",
    "# Print the optimal\n",
    "print(f\"The optimal threshold is: {optimal_threshold}\")\n",
    "print(f\"The optimal median differnce percentage is: {optimal_median_difference_percentage}\")"
   ]
  },
  {
   "cell_type": "code",
   "execution_count": 2,
   "metadata": {},
   "outputs": [
    {
     "name": "stdout",
     "output_type": "stream",
     "text": [
      "Results saved to 'game_results.xlsx'\n"
     ]
    }
   ],
   "source": [
    "# For strategy 1, run the simulation n times for optimal threshold and save the results\n",
    "n = 10000  # Number of attempts\n",
    "results = play_game_n_times(n, threshold=300, strategy=1)\n",
    "save_results_to_excel(results, filename='game_results.xlsx')\n",
    "\n",
    "print(f\"Results saved to 'game_results.xlsx'\")"
   ]
  },
  {
   "cell_type": "code",
   "execution_count": 3,
   "metadata": {},
   "outputs": [
    {
     "data": {
      "text/html": [
       "<div>\n",
       "<style scoped>\n",
       "    .dataframe tbody tr th:only-of-type {\n",
       "        vertical-align: middle;\n",
       "    }\n",
       "\n",
       "    .dataframe tbody tr th {\n",
       "        vertical-align: top;\n",
       "    }\n",
       "\n",
       "    .dataframe thead th {\n",
       "        text-align: right;\n",
       "    }\n",
       "</style>\n",
       "<table border=\"1\" class=\"dataframe\">\n",
       "  <thead>\n",
       "    <tr style=\"text-align: right;\">\n",
       "      <th></th>\n",
       "      <th>Player Revenue</th>\n",
       "      <th>Difference Percentage</th>\n",
       "    </tr>\n",
       "  </thead>\n",
       "  <tbody>\n",
       "    <tr>\n",
       "      <th>count</th>\n",
       "      <td>10000.000000</td>\n",
       "      <td>10000.000000</td>\n",
       "    </tr>\n",
       "    <tr>\n",
       "      <th>mean</th>\n",
       "      <td>92988.016463</td>\n",
       "      <td>5.939094</td>\n",
       "    </tr>\n",
       "    <tr>\n",
       "      <th>std</th>\n",
       "      <td>18082.602992</td>\n",
       "      <td>4.933190</td>\n",
       "    </tr>\n",
       "    <tr>\n",
       "      <th>min</th>\n",
       "      <td>2799.384724</td>\n",
       "      <td>0.000000</td>\n",
       "    </tr>\n",
       "    <tr>\n",
       "      <th>25%</th>\n",
       "      <td>80211.672347</td>\n",
       "      <td>2.240182</td>\n",
       "    </tr>\n",
       "    <tr>\n",
       "      <th>50%</th>\n",
       "      <td>98069.625473</td>\n",
       "      <td>4.904249</td>\n",
       "    </tr>\n",
       "    <tr>\n",
       "      <th>75%</th>\n",
       "      <td>105568.984309</td>\n",
       "      <td>8.397640</td>\n",
       "    </tr>\n",
       "    <tr>\n",
       "      <th>max</th>\n",
       "      <td>120000.000000</td>\n",
       "      <td>28.310755</td>\n",
       "    </tr>\n",
       "  </tbody>\n",
       "</table>\n",
       "</div>"
      ],
      "text/plain": [
       "       Player Revenue  Difference Percentage\n",
       "count    10000.000000           10000.000000\n",
       "mean     92988.016463               5.939094\n",
       "std      18082.602992               4.933190\n",
       "min       2799.384724               0.000000\n",
       "25%      80211.672347               2.240182\n",
       "50%      98069.625473               4.904249\n",
       "75%     105568.984309               8.397640\n",
       "max     120000.000000              28.310755"
      ]
     },
     "execution_count": 3,
     "metadata": {},
     "output_type": "execute_result"
    }
   ],
   "source": [
    "# Summary statistics of the result\n",
    "pd.DataFrame(results)[['Player Revenue', 'Difference Percentage']].describe()"
   ]
  },
  {
   "cell_type": "code",
   "execution_count": 4,
   "metadata": {},
   "outputs": [
    {
     "data": {
      "text/plain": [
       "<Axes: ylabel='Difference Percentage'>"
      ]
     },
     "execution_count": 4,
     "metadata": {},
     "output_type": "execute_result"
    },
    {
     "data": {
      "image/png": "[encoded data removed]",
      "text/plain": [
       "<Figure size 640x480 with 1 Axes>"
      ]
     },
     "metadata": {},
     "output_type": "display_data"
    }
   ],
   "source": [
    "import seaborn as sns\n",
    "sns.boxplot(y='Difference Percentage', data=pd.DataFrame(results))"
   ]
  },
  {
   "cell_type": "code",
   "execution_count": 5,
   "metadata": {},
   "outputs": [
    {
     "name": "stdout",
     "output_type": "stream",
     "text": [
      "The optimal threshold is: 115\n",
      "The optimal median differnce percentage is: 3.8487197858266704\n"
     ]
    }
   ],
   "source": [
    "# Find optimal threshold for strategy 2\n",
    "thresholds = [*range(100, 151, 5)]\n",
    "threshold_results = []\n",
    "optimal_threshold = None\n",
    "optimal_median_difference_percentage = 100\n",
    "n=1000\n",
    "\n",
    "for threshold in thresholds:\n",
    "    results = play_game_n_times(n, threshold, strategy=2)\n",
    "    # Median of difference percentage as the metric to find optimal threshold\n",
    "    median_difference_percentage = pd.DataFrame(results)['Difference Percentage'].median()\n",
    "    threshold_results.append({\n",
    "        'Threshold': threshold,\n",
    "        'Median Difference Percentage': median_difference_percentage\n",
    "    })\n",
    "    \n",
    "    if median_difference_percentage < optimal_median_difference_percentage:\n",
    "        optimal_median_difference_percentage = median_difference_percentage\n",
    "        optimal_threshold = threshold\n",
    "\n",
    "# Print the optimal\n",
    "print(f\"The optimal threshold is: {optimal_threshold}\")\n",
    "print(f\"The optimal median differnce percentage is: {optimal_median_difference_percentage}\")"
   ]
  },
  {
   "cell_type": "code",
   "execution_count": 14,
   "metadata": {},
   "outputs": [
    {
     "name": "stdout",
     "output_type": "stream",
     "text": [
      "Results saved to 'game_results2.xlsx'\n"
     ]
    }
   ],
   "source": [
    "# For strategy 2, run the simulation n times for optimal threshold and save the results\n",
    "n = 10000  # Number of attempts\n",
    "results = play_game_n_times(n, threshold=115, strategy=2)\n",
    "save_results_to_excel(results, filename='game_results2.xlsx')\n",
    "\n",
    "print(f\"Results saved to 'game_results2.xlsx'\")"
   ]
  },
  {
   "cell_type": "code",
   "execution_count": 15,
   "metadata": {},
   "outputs": [
    {
     "data": {
      "text/html": [
       "<div>\n",
       "<style scoped>\n",
       "    .dataframe tbody tr th:only-of-type {\n",
       "        vertical-align: middle;\n",
       "    }\n",
       "\n",
       "    .dataframe tbody tr th {\n",
       "        vertical-align: top;\n",
       "    }\n",
       "\n",
       "    .dataframe thead th {\n",
       "        text-align: right;\n",
       "    }\n",
       "</style>\n",
       "<table border=\"1\" class=\"dataframe\">\n",
       "  <thead>\n",
       "    <tr style=\"text-align: right;\">\n",
       "      <th></th>\n",
       "      <th>Player Revenue</th>\n",
       "      <th>Difference Percentage</th>\n",
       "    </tr>\n",
       "  </thead>\n",
       "  <tbody>\n",
       "    <tr>\n",
       "      <th>count</th>\n",
       "      <td>10000.000000</td>\n",
       "      <td>10000.000000</td>\n",
       "    </tr>\n",
       "    <tr>\n",
       "      <th>mean</th>\n",
       "      <td>94078.114032</td>\n",
       "      <td>4.602506</td>\n",
       "    </tr>\n",
       "    <tr>\n",
       "      <th>std</th>\n",
       "      <td>17869.518633</td>\n",
       "      <td>3.406648</td>\n",
       "    </tr>\n",
       "    <tr>\n",
       "      <th>min</th>\n",
       "      <td>759.875896</td>\n",
       "      <td>0.000000</td>\n",
       "    </tr>\n",
       "    <tr>\n",
       "      <th>25%</th>\n",
       "      <td>83637.821128</td>\n",
       "      <td>1.849119</td>\n",
       "    </tr>\n",
       "    <tr>\n",
       "      <th>50%</th>\n",
       "      <td>98726.527177</td>\n",
       "      <td>4.002031</td>\n",
       "    </tr>\n",
       "    <tr>\n",
       "      <th>75%</th>\n",
       "      <td>107655.118284</td>\n",
       "      <td>6.936883</td>\n",
       "    </tr>\n",
       "    <tr>\n",
       "      <th>max</th>\n",
       "      <td>120000.000000</td>\n",
       "      <td>22.087428</td>\n",
       "    </tr>\n",
       "  </tbody>\n",
       "</table>\n",
       "</div>"
      ],
      "text/plain": [
       "       Player Revenue  Difference Percentage\n",
       "count    10000.000000           10000.000000\n",
       "mean     94078.114032               4.602506\n",
       "std      17869.518633               3.406648\n",
       "min        759.875896               0.000000\n",
       "25%      83637.821128               1.849119\n",
       "50%      98726.527177               4.002031\n",
       "75%     107655.118284               6.936883\n",
       "max     120000.000000              22.087428"
      ]
     },
     "execution_count": 15,
     "metadata": {},
     "output_type": "execute_result"
    }
   ],
   "source": [
    "# Summary statistics of the result\n",
    "pd.DataFrame(results)[['Player Revenue', 'Difference Percentage']].describe()"
   ]
  },
  {
   "cell_type": "code",
   "execution_count": 16,
   "metadata": {},
   "outputs": [
    {
     "data": {
      "text/plain": [
       "<Axes: ylabel='Difference Percentage'>"
      ]
     },
     "execution_count": 16,
     "metadata": {},
     "output_type": "execute_result"
    },
    {
     "data": {
      "image/png": "[encoded data removed]",
      "text/plain": [
       "<Figure size 640x480 with 1 Axes>"
      ]
     },
     "metadata": {},
     "output_type": "display_data"
    }
   ],
   "source": [
    "sns.boxplot(y='Difference Percentage', data=pd.DataFrame(results))"
   ]
  },
  {
   "cell_type": "code",
   "execution_count": 17,
   "metadata": {},
   "outputs": [
    {
     "name": "stdout",
     "output_type": "stream",
     "text": [
      "The optimal threshold is: 105\n",
      "The optimal initial period is: 1\n",
      "The optimal median differnce percentage is: 5.869154147619845\n"
     ]
    }
   ],
   "source": [
    "# Find optimal threshold and initial period for strategy 3\n",
    "thresholds = [*range(100, 151, 5)]\n",
    "par_results = []\n",
    "optimal_threshold = None\n",
    "optimal_median_difference_percentage = 100\n",
    "n = 1000\n",
    "initial_periods = [1, 2, 3, 4]\n",
    "optimal_initial = None\n",
    "\n",
    "for initial_period in initial_periods:\n",
    "    for threshold in thresholds:\n",
    "        results = play_game_n_times(n, threshold, strategy=3, initial_period=initial_period)\n",
    "        # Median of difference percentage as the metric to find optimal threshold\n",
    "        median_difference_percentage = pd.DataFrame(results)['Difference Percentage'].median()\n",
    "        par_results.append({\n",
    "            'Threshold': threshold,\n",
    "            'Initial Period': initial_period,\n",
    "            'Median Difference Percentage': median_difference_percentage\n",
    "        })\n",
    "        \n",
    "        if median_difference_percentage < optimal_median_difference_percentage:\n",
    "            optimal_median_difference_percentage = median_difference_percentage\n",
    "            optimal_threshold = threshold\n",
    "            optimal_initial = initial_period\n",
    "\n",
    "# Print the optimal\n",
    "print(f\"The optimal threshold is: {optimal_threshold}\")\n",
    "print(f\"The optimal initial period is: {optimal_initial}\")\n",
    "print(f\"The optimal median differnce percentage is: {optimal_median_difference_percentage}\")"
   ]
  },
  {
   "cell_type": "code",
   "execution_count": 18,
   "metadata": {},
   "outputs": [
    {
     "name": "stdout",
     "output_type": "stream",
     "text": [
      "Results saved to 'game_results3.xlsx'\n"
     ]
    }
   ],
   "source": [
    "# For strategy 3, run the simulation n times for optimal threshold and save the results\n",
    "n = 10000  # Number of attempts\n",
    "results = play_game_n_times(n, threshold=105, strategy=3, initial_period=1)\n",
    "save_results_to_excel(results, filename='game_results3.xlsx')\n",
    "\n",
    "print(f\"Results saved to 'game_results3.xlsx'\")"
   ]
  },
  {
   "cell_type": "code",
   "execution_count": 19,
   "metadata": {},
   "outputs": [
    {
     "data": {
      "text/html": [
       "<div>\n",
       "<style scoped>\n",
       "    .dataframe tbody tr th:only-of-type {\n",
       "        vertical-align: middle;\n",
       "    }\n",
       "\n",
       "    .dataframe tbody tr th {\n",
       "        vertical-align: top;\n",
       "    }\n",
       "\n",
       "    .dataframe thead th {\n",
       "        text-align: right;\n",
       "    }\n",
       "</style>\n",
       "<table border=\"1\" class=\"dataframe\">\n",
       "  <thead>\n",
       "    <tr style=\"text-align: right;\">\n",
       "      <th></th>\n",
       "      <th>Player Revenue</th>\n",
       "      <th>Difference Percentage</th>\n",
       "    </tr>\n",
       "  </thead>\n",
       "  <tbody>\n",
       "    <tr>\n",
       "      <th>count</th>\n",
       "      <td>10000.000000</td>\n",
       "      <td>10000.000000</td>\n",
       "    </tr>\n",
       "    <tr>\n",
       "      <th>mean</th>\n",
       "      <td>90874.800295</td>\n",
       "      <td>7.703308</td>\n",
       "    </tr>\n",
       "    <tr>\n",
       "      <th>std</th>\n",
       "      <td>18008.180867</td>\n",
       "      <td>6.520482</td>\n",
       "    </tr>\n",
       "    <tr>\n",
       "      <th>min</th>\n",
       "      <td>1646.502216</td>\n",
       "      <td>0.000000</td>\n",
       "    </tr>\n",
       "    <tr>\n",
       "      <th>25%</th>\n",
       "      <td>78350.412341</td>\n",
       "      <td>2.692212</td>\n",
       "    </tr>\n",
       "    <tr>\n",
       "      <th>50%</th>\n",
       "      <td>95071.920561</td>\n",
       "      <td>5.979188</td>\n",
       "    </tr>\n",
       "    <tr>\n",
       "      <th>75%</th>\n",
       "      <td>103995.118317</td>\n",
       "      <td>11.091850</td>\n",
       "    </tr>\n",
       "    <tr>\n",
       "      <th>max</th>\n",
       "      <td>120000.000000</td>\n",
       "      <td>29.865750</td>\n",
       "    </tr>\n",
       "  </tbody>\n",
       "</table>\n",
       "</div>"
      ],
      "text/plain": [
       "       Player Revenue  Difference Percentage\n",
       "count    10000.000000           10000.000000\n",
       "mean     90874.800295               7.703308\n",
       "std      18008.180867               6.520482\n",
       "min       1646.502216               0.000000\n",
       "25%      78350.412341               2.692212\n",
       "50%      95071.920561               5.979188\n",
       "75%     103995.118317              11.091850\n",
       "max     120000.000000              29.865750"
      ]
     },
     "execution_count": 19,
     "metadata": {},
     "output_type": "execute_result"
    }
   ],
   "source": [
    "# Summary statistics of the result\n",
    "pd.DataFrame(results)[['Player Revenue', 'Difference Percentage']].describe()"
   ]
  },
  {
   "cell_type": "code",
   "execution_count": 20,
   "metadata": {},
   "outputs": [
    {
     "data": {
      "text/plain": [
       "<Axes: ylabel='Difference Percentage'>"
      ]
     },
     "execution_count": 20,
     "metadata": {},
     "output_type": "execute_result"
    },
    {
     "data": {
      "image/png": "[encoded data removed]",
      "text/plain": [
       "<Figure size 640x480 with 1 Axes>"
      ]
     },
     "metadata": {},
     "output_type": "display_data"
    }
   ],
   "source": [
    "sns.boxplot(y='Difference Percentage', data=pd.DataFrame(results))"
   ]
  }
 ],
 "metadata": {
  "kernelspec": {
   "display_name": "base",
   "language": "python",
   "name": "python3"
  },
  "language_info": {
   "codemirror_mode": {
    "name": "ipython",
    "version": 3
   },
   "file_extension": ".py",
   "mimetype": "text/x-python",
   "name": "python",
   "nbconvert_exporter": "python",
   "pygments_lexer": "ipython3",
   "version": "3.11.7"
  },
  "orig_nbformat": 4
 },
 "nbformat": 4,
 "nbformat_minor": 2
}
